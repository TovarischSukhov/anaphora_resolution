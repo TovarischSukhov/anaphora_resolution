{
 "cells": [
  {
   "cell_type": "code",
   "execution_count": 1,
   "metadata": {
    "collapsed": true
   },
   "outputs": [],
   "source": [
    "import pandas as pd\n",
    "anaphora = pd.read_csv('data_total.csv', encoding='cp1251')\n",
    "anaphora = anaphora.drop('Unnamed: 0', 1)"
   ]
  },
  {
   "cell_type": "code",
   "execution_count": 4,
   "metadata": {
    "collapsed": false
   },
   "outputs": [
    {
     "data": {
      "text/plain": [
       "array(['они', 'он', 'она', 'харчевен', 'свой', 'их', 'который', 'его',\n",
       "       'ее', 'себя', 'ваш', 'кормилец', 'мой', 'доллар', 'мы', 'журналист',\n",
       "       'ты', 'наш', 'тот', 'варвар', 'кой', 'оно', 'школа', 'страна',\n",
       "       'препятствие', 'процесс', 'карта', 'неудача', 'подход',\n",
       "       'государство', 'кризис', 'развитый', 'своём', 'усиление', 'влияние',\n",
       "       'фонд', 'мера', 'стабильность', 'совет', 'валюта', 'юань', 'оружие',\n",
       "       'ну', 'задержать', 'партия', 'паспорт', 'четверть', 'уязвимость',\n",
       "       'предмет', 'астма', 'период', 'исследование', 'использование',\n",
       "       'анализ', 'isaac', 'дитя', 'рсв', 'осложнение', 'контролер',\n",
       "       'вопрос', 'другой', 'мероприятие', 'прения', 'сам', 'один',\n",
       "       'русский', 'я', 'отель', 'кок', 'форма', 'телескоп', 'айнов',\n",
       "       'покупатель', 'президент', 'отрасль', 'модель', 'f', 'чей', 'звук',\n",
       "       'чувство', 'война', 'нём', 'неё', 'футболка', 'своё', 'женщина',\n",
       "       'исполнитель', 'корпорация', '?им', 'роль', '?которые', 'жест',\n",
       "       'песня', '?ему', 'центр', 'кто', 'вы', 'это', 'балабол', 'негодяй',\n",
       "       'напряжение', 'надежда', '?вам', 'образ', 'похититель', 'целителем',\n",
       "       'документ', 'те'], dtype=object)"
      ]
     },
     "execution_count": 4,
     "metadata": {},
     "output_type": "execute_result"
    }
   ],
   "source": [
    "anaphora['target'].unique()"
   ]
  },
  {
   "cell_type": "code",
   "execution_count": null,
   "metadata": {
    "collapsed": true
   },
   "outputs": [],
   "source": []
  }
 ],
 "metadata": {
  "kernelspec": {
   "display_name": "Python 3",
   "language": "python",
   "name": "python3"
  },
  "language_info": {
   "codemirror_mode": {
    "name": "ipython",
    "version": 3
   },
   "file_extension": ".py",
   "mimetype": "text/x-python",
   "name": "python",
   "nbconvert_exporter": "python",
   "pygments_lexer": "ipython3",
   "version": "3.6.1"
  }
 },
 "nbformat": 4,
 "nbformat_minor": 2
}
