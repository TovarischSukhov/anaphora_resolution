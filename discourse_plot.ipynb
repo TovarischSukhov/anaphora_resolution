{
 "cells": [
  {
   "cell_type": "code",
   "execution_count": 1,
   "metadata": {
    "collapsed": false
   },
   "outputs": [],
   "source": [
    "import pandas as pd"
   ]
  },
  {
   "cell_type": "code",
   "execution_count": 2,
   "metadata": {
    "collapsed": false
   },
   "outputs": [
    {
     "data": {
      "text/html": [
       "<div>\n",
       "<style>\n",
       "    .dataframe thead tr:only-child th {\n",
       "        text-align: right;\n",
       "    }\n",
       "\n",
       "    .dataframe thead th {\n",
       "        text-align: left;\n",
       "    }\n",
       "\n",
       "    .dataframe tbody tr th {\n",
       "        vertical-align: top;\n",
       "    }\n",
       "</style>\n",
       "<table border=\"1\" class=\"dataframe\">\n",
       "  <thead>\n",
       "    <tr style=\"text-align: right;\">\n",
       "      <th></th>\n",
       "      <th>doc_id</th>\n",
       "      <th>shift_o</th>\n",
       "      <th>length_o</th>\n",
       "      <th>token</th>\n",
       "      <th>lemma</th>\n",
       "      <th>gram</th>\n",
       "      <th>ID</th>\n",
       "      <th>variant</th>\n",
       "      <th>group_id</th>\n",
       "      <th>chain_id</th>\n",
       "      <th>...</th>\n",
       "      <th>content</th>\n",
       "      <th>tk_shifts</th>\n",
       "      <th>attributes</th>\n",
       "      <th>head</th>\n",
       "      <th>hd_shifts</th>\n",
       "      <th>anaph</th>\n",
       "      <th>PoS</th>\n",
       "      <th>count</th>\n",
       "      <th>dist_to_ant</th>\n",
       "      <th>gend</th>\n",
       "    </tr>\n",
       "  </thead>\n",
       "  <tbody>\n",
       "    <tr>\n",
       "      <th>0</th>\n",
       "      <td>1</td>\n",
       "      <td>0</td>\n",
       "      <td>2</td>\n",
       "      <td>Во</td>\n",
       "      <td>во</td>\n",
       "      <td>Sp-a</td>\n",
       "      <td>1-0</td>\n",
       "      <td>-</td>\n",
       "      <td>-</td>\n",
       "      <td>-</td>\n",
       "      <td>...</td>\n",
       "      <td>-</td>\n",
       "      <td>-</td>\n",
       "      <td>-</td>\n",
       "      <td>-</td>\n",
       "      <td>-</td>\n",
       "      <td>-</td>\n",
       "      <td>S</td>\n",
       "      <td>NaN</td>\n",
       "      <td>NaN</td>\n",
       "      <td>NaN</td>\n",
       "    </tr>\n",
       "    <tr>\n",
       "      <th>1</th>\n",
       "      <td>1</td>\n",
       "      <td>3</td>\n",
       "      <td>5</td>\n",
       "      <td>время</td>\n",
       "      <td>время</td>\n",
       "      <td>Ncnsan</td>\n",
       "      <td>1-3</td>\n",
       "      <td>-</td>\n",
       "      <td>-</td>\n",
       "      <td>-</td>\n",
       "      <td>...</td>\n",
       "      <td>-</td>\n",
       "      <td>-</td>\n",
       "      <td>-</td>\n",
       "      <td>-</td>\n",
       "      <td>-</td>\n",
       "      <td>-</td>\n",
       "      <td>N</td>\n",
       "      <td>n</td>\n",
       "      <td>NaN</td>\n",
       "      <td>NaN</td>\n",
       "    </tr>\n",
       "    <tr>\n",
       "      <th>2</th>\n",
       "      <td>1</td>\n",
       "      <td>9</td>\n",
       "      <td>5</td>\n",
       "      <td>своих</td>\n",
       "      <td>свой</td>\n",
       "      <td>P---pga</td>\n",
       "      <td>1-9</td>\n",
       "      <td>1.0</td>\n",
       "      <td>407840.0</td>\n",
       "      <td>1070.0</td>\n",
       "      <td>...</td>\n",
       "      <td>своих</td>\n",
       "      <td>9</td>\n",
       "      <td>ref:def|str:refl|type:coref</td>\n",
       "      <td>-</td>\n",
       "      <td>-</td>\n",
       "      <td>0.0</td>\n",
       "      <td>P</td>\n",
       "      <td>p</td>\n",
       "      <td>NaN</td>\n",
       "      <td>NaN</td>\n",
       "    </tr>\n",
       "    <tr>\n",
       "      <th>3</th>\n",
       "      <td>1</td>\n",
       "      <td>15</td>\n",
       "      <td>8</td>\n",
       "      <td>прогулок</td>\n",
       "      <td>прогулка</td>\n",
       "      <td>Ncfpgn</td>\n",
       "      <td>1-15</td>\n",
       "      <td>-</td>\n",
       "      <td>-</td>\n",
       "      <td>-</td>\n",
       "      <td>...</td>\n",
       "      <td>-</td>\n",
       "      <td>-</td>\n",
       "      <td>-</td>\n",
       "      <td>-</td>\n",
       "      <td>-</td>\n",
       "      <td>-</td>\n",
       "      <td>N</td>\n",
       "      <td>f</td>\n",
       "      <td>NaN</td>\n",
       "      <td>NaN</td>\n",
       "    </tr>\n",
       "    <tr>\n",
       "      <th>4</th>\n",
       "      <td>1</td>\n",
       "      <td>24</td>\n",
       "      <td>1</td>\n",
       "      <td>в</td>\n",
       "      <td>в</td>\n",
       "      <td>Sp-l</td>\n",
       "      <td>1-24</td>\n",
       "      <td>-</td>\n",
       "      <td>-</td>\n",
       "      <td>-</td>\n",
       "      <td>...</td>\n",
       "      <td>-</td>\n",
       "      <td>-</td>\n",
       "      <td>-</td>\n",
       "      <td>-</td>\n",
       "      <td>-</td>\n",
       "      <td>-</td>\n",
       "      <td>S</td>\n",
       "      <td>NaN</td>\n",
       "      <td>NaN</td>\n",
       "      <td>NaN</td>\n",
       "    </tr>\n",
       "  </tbody>\n",
       "</table>\n",
       "<p>5 rows × 23 columns</p>\n",
       "</div>"
      ],
      "text/plain": [
       "   doc_id  shift_o  length_o     token     lemma     gram    ID variant  \\\n",
       "0       1        0         2        Во        во     Sp-a   1-0       -   \n",
       "1       1        3         5     время     время   Ncnsan   1-3       -   \n",
       "2       1        9         5     своих      свой  P---pga   1-9     1.0   \n",
       "3       1       15         8  прогулок  прогулка   Ncfpgn  1-15       -   \n",
       "4       1       24         1         в         в     Sp-l  1-24       -   \n",
       "\n",
       "   group_id chain_id ...  content tk_shifts                   attributes head  \\\n",
       "0         -        - ...        -         -                            -    -   \n",
       "1         -        - ...        -         -                            -    -   \n",
       "2  407840.0   1070.0 ...    своих         9  ref:def|str:refl|type:coref    -   \n",
       "3         -        - ...        -         -                            -    -   \n",
       "4         -        - ...        -         -                            -    -   \n",
       "\n",
       "  hd_shifts anaph PoS count dist_to_ant gend  \n",
       "0         -     -   S   NaN         NaN  NaN  \n",
       "1         -     -   N     n         NaN  NaN  \n",
       "2         -   0.0   P     p         NaN  NaN  \n",
       "3         -     -   N     f         NaN  NaN  \n",
       "4         -     -   S   NaN         NaN  NaN  \n",
       "\n",
       "[5 rows x 23 columns]"
      ]
     },
     "execution_count": 2,
     "metadata": {},
     "output_type": "execute_result"
    }
   ],
   "source": [
    "tokens = pd.read_csv('tokens_with_gram_and_dist.csv', encoding='cp1251')\n",
    "tokens = tokens.drop('Unnamed: 0', 1)\n",
    "tokens.head()"
   ]
  },
  {
   "cell_type": "code",
   "execution_count": 3,
   "metadata": {
    "collapsed": true
   },
   "outputs": [],
   "source": [
    "import gensim\n",
    "from tqdm import tqdm_notebook as tqdm\n",
    "import numpy as np\n",
    "model = gensim.models.KeyedVectors.load_word2vec_format('./ruwikiruscorpora_0_300_20.bin', binary=True)"
   ]
  },
  {
   "cell_type": "code",
   "execution_count": 4,
   "metadata": {
    "collapsed": false
   },
   "outputs": [
    {
     "name": "stderr",
     "output_type": "stream",
     "text": [
      "Widget Javascript not detected.  It may not be installed properly. Did you enable the widgetsnbextension? If not, then run \"jupyter nbextension enable --py --sys-prefix widgetsnbextension\"\n"
     ]
    },
    {
     "name": "stdout",
     "output_type": "stream",
     "text": [
      "\n"
     ]
    }
   ],
   "source": [
    "tokens['vec'] = ['']*len(tokens)\n",
    "pos_tags = {'V':'_VERB','A':'_ADJ','N':'_NOUN','R':'_ADV','Q':'_PART','P':'_PRON','I':'_INTJ', 'C':'_CCONJ', 'M':'ADV', 'S':'', ',':'', '-':''}\n",
    "#c = 0\n",
    "tokens['vec'] = tokens['vec'].astype('object')\n",
    "for token_id, token in tqdm(tokens.iterrows()):\n",
    "    #c += 1\n",
    "    tag = token['lemma']+pos_tags[token['PoS']]\n",
    "    if tag in model.vocab.keys():\n",
    "        #print(model[tag])\n",
    "        tokens.set_value(token_id, 'vec', model[tag])"
   ]
  },
  {
   "cell_type": "code",
   "execution_count": 41,
   "metadata": {
    "collapsed": false,
    "scrolled": true
   },
   "outputs": [
    {
     "name": "stdout",
     "output_type": "stream",
     "text": [
      "134 57847 60039 2193 58508 58527 58508 58528 0\n",
      "134 57847 60039 2193 58509 58528 58509 58529 0\n",
      "134 57847 60039 2193 58510 58529 58510 58530 0\n",
      "134 57847 60039 2193 58511 58530 58511 58531 0\n",
      "134 57847 60039 2193 58512 58531 58512 58532 0\n",
      "134 57847 60039 2193 58513 58532 58513 58533 0\n",
      "134 57847 60039 2193 58514 58533 58514 58534 0\n",
      "323 108481 112453 3973 109823 109842 109823 109843 0\n",
      "323 108481 112453 3973 109824 109843 109824 109844 0\n",
      "323 108481 112453 3973 109825 109844 109825 109845 0\n",
      "323 108481 112453 3973 109826 109845 109826 109846 0\n",
      "323 108481 112453 3973 109827 109846 109827 109847 0\n",
      "323 108481 112453 3973 109828 109847 109828 109848 0\n",
      "323 108481 112453 3973 109829 109848 109829 109849 0\n",
      "\n"
     ]
    }
   ],
   "source": [
    "from string import punctuation\n",
    "\n",
    "def mean_vec(vectors, i, count):\n",
    "    res = []\n",
    "    for c in range(i, count):\n",
    "        if len(vectors[c]) > 1:\n",
    "            res.append(vectors[c])\n",
    "    return np.matrix(res).mean(0).tolist()\n",
    "\n",
    "def get_disc_vecs(tokens, window):\n",
    "    tokens_no_punct = tokens.loc[[token not in punctuation for token in tokens['lemma']]].reset_index()\n",
    "    tokens_no_punct = tokens_no_punct.drop('index', 1)\n",
    "    result = []\n",
    "    for name, group in tqdm(tokens_no_punct.groupby('doc_id')['vec']):\n",
    "        for_doc = []\n",
    "        g = group.index[0]\n",
    "        for i in range(len(group)-window):\n",
    "            if len(mean_vec(group.loc[i+g:i+g+window-1], i+g, window+i+g)[0])<300:\n",
    "                print(name, g, group.index[-1], len(group), i+g, i+g+window-1, i+g, window+i+g, len(mean_vec(group.loc[i+g:i+g+window-1], i+g, window+i+g)[0]))\n",
    "            else:\n",
    "                for_doc.append(mean_vec(group.loc[i+g:i+g+window-1], i+g, window+i+g))\n",
    "        result.append(for_doc)\n",
    "    return result\n",
    "        #\n",
    "res_20 = get_disc_vecs(tokens, 20)\n",
    "#res_10 = get_disc_vecs(tokens, 10)\n",
    "#res_30 = get_disc_vecs(tokens, 30)"
   ]
  },
  {
   "cell_type": "code",
   "execution_count": 42,
   "metadata": {
    "collapsed": true
   },
   "outputs": [],
   "source": [
    "from sklearn.metrics.pairwise import cosine_similarity"
   ]
  },
  {
   "cell_type": "code",
   "execution_count": 43,
   "metadata": {
    "collapsed": false,
    "scrolled": true
   },
   "outputs": [],
   "source": [
    "import matplotlib.pyplot as plt\n",
    "new_res_20 = []\n",
    "succsess = []\n",
    "for n, text in enumerate(res_20):\n",
    "    n_res_20 = []\n",
    "    for i in range(len(text)-1):\n",
    "        succsess.append((len(text[i]),len(text[i+1]), n, i))\n",
    "        n_res_20.append(cosine_similarity(text[i], text[i+1]))\n",
    "    new_res_20.append(n_res_20)\n",
    "del res_20\n",
    "#print(new_res_20)"
   ]
  },
  {
   "cell_type": "code",
   "execution_count": 56,
   "metadata": {
    "collapsed": false
   },
   "outputs": [
    {
     "name": "stdout",
     "output_type": "stream",
     "text": [
      "\n",
      "\n"
     ]
    },
    {
     "data": {
      "image/png": "[encoded data removed]",
      "text/plain": [
       "<matplotlib.figure.Figure at 0x1ebd4f978>"
      ]
     },
     "metadata": {},
     "output_type": "display_data"
    }
   ],
   "source": [
    "res_30 = get_disc_vecs(tokens, 30)\n",
    "new_res_30 = []\n",
    "succsess = []\n",
    "for n, text in enumerate(res_20):\n",
    "    n_res_30 = []\n",
    "    for i in range(len(text)-1):\n",
    "        succsess.append((len(text[i]),len(text[i+1]), n, i))\n",
    "        n_res_30.append(cosine_similarity(text[i], text[i+1]))\n",
    "    new_res_30.append(n_res_30)\n",
    "del res_30\n",
    "for r in tqdm(new_res_30[:2]):\n",
    "    #print([ro[0][0] for ro in r])\n",
    "    plt.plot(range(len(r)), [ro[0][0] for ro in r])\n",
    "plt.show()"
   ]
  },
  {
   "cell_type": "code",
   "execution_count": 55,
   "metadata": {
    "collapsed": false
   },
   "outputs": [
    {
     "name": "stdout",
     "output_type": "stream",
     "text": [
      "\n"
     ]
    },
    {
     "data": {
      "image/png": "[encoded data removed]",
      "text/plain": [
       "<matplotlib.figure.Figure at 0x161013ef0>"
      ]
     },
     "metadata": {},
     "output_type": "display_data"
    }
   ],
   "source": [
    "#print(len(new_res_20))\n",
    "for r in tqdm(new_res_20[:2]):\n",
    "    #print([ro[0][0] for ro in r])\n",
    "    plt.plot(range(len(r)), [ro[0][0] for ro in r])\n",
    "plt.show()"
   ]
  }
 ],
 "metadata": {
  "kernelspec": {
   "display_name": "Python 3",
   "language": "python",
   "name": "python3"
  },
  "language_info": {
   "codemirror_mode": {
    "name": "ipython",
    "version": 3
   },
   "file_extension": ".py",
   "mimetype": "text/x-python",
   "name": "python",
   "nbconvert_exporter": "python",
   "pygments_lexer": "ipython3",
   "version": "3.6.1"
  },
  "widgets": {
   "state": {
    "54299135c28c4b37be837a20429ef576": {
     "views": [
      {
       "cell_index": 7
      }
     ]
    },
    "a8d1b8fc57304fd29a79973bfc9a964e": {
     "views": [
      {
       "cell_index": 7
      }
     ]
    },
    "b0a88807395641fa84afd3647f5157b8": {
     "views": [
      {
       "cell_index": 4
      }
     ]
    },
    "c67a39a6d9c04e8a87828cd0dcedda40": {
     "views": [
      {
       "cell_index": 8
      }
     ]
    },
    "d4c790fba4e64f008d22098c4484b5d8": {
     "views": [
      {
       "cell_index": 3
      }
     ]
    },
    "e79085faa4474a828ee69db6af8626bf": {
     "views": [
      {
       "cell_index": 4
      }
     ]
    }
   },
   "version": "1.2.0"
  }
 },
 "nbformat": 4,
 "nbformat_minor": 2
}
